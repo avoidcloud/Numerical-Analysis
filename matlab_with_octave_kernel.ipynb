{
 "cells": [
  {
   "cell_type": "markdown",
   "metadata": {},
   "source": [
    "# Octave\n",
    "* #### [Download](https://www.gnu.org/software/octave/download.html)\n",
    "* #### [Jupyter Notebook](http://jupyter.org/install) \n",
    "* #### [Octave kernel](https://github.com/calysto/octave_kernel)\n",
    "\n",
    "#### Steps:\n",
    "* #### Install Octave\n",
    "* #### Add octave bin folder in PATH (windows)\n",
    "* #### Install Jupyter (With Python pip : python installed recommended)\n",
    "* #### Install octave kernel (With python pip)\n",
    "<br><br>"
   ]
  },
  {
   "cell_type": "markdown",
   "metadata": {},
   "source": [
    "### Input / Output\n",
    "* #### input a number float or integer type\n",
    "``` octave\n",
    "num = input(''); % input without any prompt text\n",
    "num = input('enter a number'); % input with a prompt text\n",
    "```\n",
    "* #### input a string\n",
    "``` octave\n",
    "string = input('enter a string', 's'); % prompt text must with a string identifier\n",
    "```\n",
    "* #### regular output \n",
    "``` octave\n",
    "disp(100); % display a number on prompt console\n",
    "disp('Hello'); % display a text on prompt console\n",
    "disp(num); % display a variable on promot console\n",
    "```\n",
    "* #### formated output\n",
    "``` octave\n",
    "fprintf('Your age: %d\\n',10); % formated integer output\n",
    "fprintf('Your height: %f\\n',5.7); % formated float output\n",
    "fprintf('Your name: %s\\n', string); % formated string output\n",
    "```"
   ]
  },
  {
   "cell_type": "markdown",
   "metadata": {},
   "source": [
    "### Regular calculation\n",
    " * #### Arithmetic\n",
    "``` octave\n",
    "n1 = 19; % define 19 as n1\n",
    "n2 = 67.0; % define 67.0 as n2 \n",
    "disp(n1+n2); % addition\n",
    "disp(n2-n1); % substruction\n",
    "disp(n1*n2); % multiplication\n",
    "disp(n2/n1); % division\n",
    "disp(mod(n1,7)); % modulus n1 with 7 \n",
    "disp(n2^4) % exponent\n",
    "```\n",
    " * #### Matrix\n",
    "    * separate element of same row by comma and same column by semi-colon\n",
    "        "
   ]
  },
  {
   "cell_type": "code",
   "execution_count": 1,
   "metadata": {},
   "outputs": [
    {
     "name": "stdout",
     "output_type": "stream",
     "text": [
      "A =\n",
      "\n",
      "   1   2   3\n",
      "   4   5   6\n",
      "   7   8   9\n",
      "\n",
      "B =\n",
      "\n",
      "   1   0   0\n",
      "   0   1   0\n",
      "   0   0   1\n",
      "\n"
     ]
    }
   ],
   "source": [
    "A = [1,2,3;4,5,6;7,8,9]  % define first matrix\n",
    "B = [1,0,0;0,1,0;0,0,1]  % definie an I3 matrix"
   ]
  },
  {
   "cell_type": "code",
   "execution_count": 2,
   "metadata": {},
   "outputs": [
    {
     "name": "stdout",
     "output_type": "stream",
     "text": [
      "ans =\n",
      "\n",
      "    2    2    3\n",
      "    4    6    6\n",
      "    7    8   10\n",
      "\n"
     ]
    }
   ],
   "source": [
    "A + B % matrix addition"
   ]
  },
  {
   "cell_type": "code",
   "execution_count": 3,
   "metadata": {},
   "outputs": [
    {
     "name": "stdout",
     "output_type": "stream",
     "text": [
      "ans =\n",
      "\n",
      "   1   2   3\n",
      "   4   5   6\n",
      "   7   8   9\n",
      "\n"
     ]
    }
   ],
   "source": [
    "A * B % matrix multiplication"
   ]
  },
  {
   "cell_type": "code",
   "execution_count": 4,
   "metadata": {},
   "outputs": [
    {
     "name": "stdout",
     "output_type": "stream",
     "text": [
      "ans =\n",
      "\n",
      "   0   2   3\n",
      "   4   4   6\n",
      "   7   8   8\n",
      "\n"
     ]
    }
   ],
   "source": [
    "A - B % matrix substruction"
   ]
  },
  {
   "cell_type": "code",
   "execution_count": 5,
   "metadata": {},
   "outputs": [
    {
     "name": "stdout",
     "output_type": "stream",
     "text": [
      "ans =\n",
      "\n",
      "   1   2   3\n",
      "   4   5   6\n",
      "   7   8   9\n",
      "\n"
     ]
    }
   ],
   "source": [
    "A / B % matrix division or A*B^-1"
   ]
  },
  {
   "cell_type": "code",
   "execution_count": 6,
   "metadata": {},
   "outputs": [
    {
     "name": "stdout",
     "output_type": "stream",
     "text": [
      "ans =\n",
      "\n",
      "   1  -0  -0\n",
      "   0   1  -0\n",
      "   0   0   1\n",
      "\n"
     ]
    }
   ],
   "source": [
    "inv(B) % matrix inverse"
   ]
  },
  {
   "cell_type": "code",
   "execution_count": 7,
   "metadata": {},
   "outputs": [
    {
     "name": "stdout",
     "output_type": "stream",
     "text": [
      "ans =\n",
      "\n",
      "   1   4   7\n",
      "   2   5   8\n",
      "   3   6   9\n",
      "\n"
     ]
    }
   ],
   "source": [
    "A' % transpose matrix"
   ]
  },
  {
   "cell_type": "markdown",
   "metadata": {},
   "source": [
    "### Function\n",
    " * #### Regular function\n",
    "  * no return varible function\n",
    "  ``` octave\n",
    "    function add(x,y)\n",
    "        disp(x+y);\n",
    "    end\n",
    "    add(5,7); % call the function\n",
    "  ```\n",
    "  or\n",
    "    ``` octave\n",
    "    function [] = add(x,y)\n",
    "        disp(x+y);\n",
    "    end\n",
    "    add(5,7); % call the function\n",
    "    ```\n",
    "  * single value return function\n",
    "    ``` octave\n",
    "    function ans =  add(x,y)\n",
    "        ans = x + y;\n",
    "    end\n",
    "    disp(add(3,4)); % call the function to display\n",
    "  ```\n",
    "  * multiple value return function\n",
    "   ``` octave\n",
    "    function [summ, sub, mul, div] = ans(a,b)\n",
    "        summ = a+b;\n",
    "        sub = a-b;\n",
    "        mul = a*b;\n",
    "        div = a/b;\n",
    "    end\n",
    "    [p,q,r,s] = ans(4,2) % carry the returned variables\n",
    "  ```\n",
    " * #### Equation expression function"
   ]
  },
  {
   "cell_type": "code",
   "execution_count": 8,
   "metadata": {},
   "outputs": [],
   "source": [
    "f = @(x) x^2+2*x-1; # define an equation function name f of x "
   ]
  },
  {
   "cell_type": "code",
   "execution_count": 9,
   "metadata": {},
   "outputs": [
    {
     "name": "stdout",
     "output_type": "stream",
     "text": [
      "ans =  23\n"
     ]
    }
   ],
   "source": [
    "f(4) % function value of 4 for f of x"
   ]
  },
  {
   "cell_type": "markdown",
   "metadata": {},
   "source": [
    " * string to function "
   ]
  },
  {
   "cell_type": "code",
   "execution_count": 10,
   "metadata": {},
   "outputs": [
    {
     "name": "stdout",
     "output_type": "stream",
     "text": [
      "ans =  10\n"
     ]
    }
   ],
   "source": [
    "str = 'x^3+2*x-2'; % string input or define by user\n",
    "str = strcat('@(x)',str); % concate string with function expression syntax\n",
    "f = str2func(str); % convert the string to an equation expressional function\n",
    "f(2) % evaluate the function value for x = 2"
   ]
  },
  {
   "cell_type": "markdown",
   "metadata": {},
   "source": [
    "### Programming syntax\n",
    " * #### Loop\n",
    "  * while \n",
    "``` octave\n",
    "    i = 1;\n",
    "    while(i<5)\n",
    "        disp(i);\n",
    "        i = i+1;\n",
    "    endwhile\n",
    "```\n",
    "  * for syntax: for iterate_variable = from : change : to\n",
    "```octave\n",
    "    for i = 1:2:10\n",
    "        disp(i);\n",
    "    endfor\n",
    "```\n",
    "    syntax 6:1:50 can be 6:50\n",
    "```octave\n",
    "    for i = 1:5\n",
    "        disp(i);\n",
    "    endfor\n",
    "```\n",
    " * #### condition\n",
    "```octave\n",
    "    i = 10;\n",
    "    if(i>10)\n",
    "        disp('greater');\n",
    "    else if(i<10)\n",
    "        disp('lesser');\n",
    "    else \n",
    "        disp('equal');\n",
    "    endif\n",
    "```"
   ]
  }
 ],
 "metadata": {
  "kernelspec": {
   "display_name": "Octave",
   "language": "octave",
   "name": "octave"
  },
  "language_info": {
   "file_extension": ".m",
   "help_links": [
    {
     "text": "GNU Octave",
     "url": "https://www.gnu.org/software/octave/support.html"
    },
    {
     "text": "Octave Kernel",
     "url": "https://github.com/Calysto/octave_kernel"
    },
    {
     "text": "MetaKernel Magics",
     "url": "https://github.com/calysto/metakernel/blob/master/metakernel/magics/README.md"
    }
   ],
   "mimetype": "text/x-octave",
   "name": "octave",
   "version": "4.4.1"
  }
 },
 "nbformat": 4,
 "nbformat_minor": 2
}
