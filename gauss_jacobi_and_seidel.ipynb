{
 "cells": [
  {
   "cell_type": "markdown",
   "metadata": {},
   "source": [
    "## Gauss Jacobi's method\n",
    "\n",
    "### Iteration formula:\n",
    "      xi = -inv(D)*(Upper+Lower)*x0+inv(D)*B\n",
    "  "
   ]
  },
  {
   "cell_type": "code",
   "execution_count": 1,
   "metadata": {},
   "outputs": [
    {
     "name": "stdout",
     "output_type": "stream",
     "text": [
      "A =\n",
      "\n",
      "   10   -2    1\n",
      "   -2   10   -2\n",
      "   -2   -5   10\n",
      "\n",
      "B =\n",
      "\n",
      "    5\n",
      "   26\n",
      "   -7\n",
      "\n"
     ]
    }
   ],
   "source": [
    "% define co-effcient matrix and variable matrix\n",
    "A = [10 -2 1; -2 10 -2; -2 -5 10] % co-efficient matrix\n",
    "B = [5; 26; -7] % variable matrix"
   ]
  },
  {
   "cell_type": "code",
   "execution_count": 2,
   "metadata": {},
   "outputs": [
    {
     "name": "stdout",
     "output_type": "stream",
     "text": [
      "n =  3\n"
     ]
    }
   ],
   "source": [
    "% access the length of co-efficient matrix\n",
    "n = length(A)"
   ]
  },
  {
   "cell_type": "code",
   "execution_count": 3,
   "metadata": {
    "scrolled": true
   },
   "outputs": [
    {
     "name": "stdout",
     "output_type": "stream",
     "text": [
      "D =\n",
      "\n",
      "   10\n",
      "   10\n",
      "   10\n",
      "\n"
     ]
    }
   ],
   "source": [
    "% get the diagonal of co-efficient matrix\n",
    "D = diag(A)"
   ]
  },
  {
   "cell_type": "code",
   "execution_count": 4,
   "metadata": {},
   "outputs": [
    {
     "name": "stdout",
     "output_type": "stream",
     "text": [
      "D =\n",
      "\n",
      "Diagonal Matrix\n",
      "\n",
      "   10    0    0\n",
      "    0   10    0\n",
      "    0    0   10\n",
      "\n"
     ]
    }
   ],
   "source": [
    "% create a diagonal matrix with this diagonal\n",
    "D = diag(D)"
   ]
  },
  {
   "cell_type": "code",
   "execution_count": 5,
   "metadata": {},
   "outputs": [
    {
     "name": "stdout",
     "output_type": "stream",
     "text": [
      "Upper =\n",
      "\n",
      "   0  -2   1\n",
      "   0   0  -2\n",
      "   0   0   0\n",
      "\n"
     ]
    }
   ],
   "source": [
    "% create the upper triangle matrix on n*n formation\n",
    "Upper = triu(A,1)"
   ]
  },
  {
   "cell_type": "code",
   "execution_count": 6,
   "metadata": {},
   "outputs": [
    {
     "name": "stdout",
     "output_type": "stream",
     "text": [
      "Lower =\n",
      "\n",
      "   0   0   0\n",
      "  -2   0   0\n",
      "  -2  -5   0\n",
      "\n"
     ]
    }
   ],
   "source": [
    "% create the lower triangle matrix on n*n formation\n",
    "Lower = tril(A,-1)"
   ]
  },
  {
   "cell_type": "code",
   "execution_count": 7,
   "metadata": {},
   "outputs": [
    {
     "name": "stdout",
     "output_type": "stream",
     "text": [
      "x0 =\n",
      "\n",
      "   0\n",
      "   0\n",
      "   0\n",
      "\n"
     ]
    }
   ],
   "source": [
    "% initial iteration value\n",
    "x0 = zeros(n,1)"
   ]
  },
  {
   "cell_type": "code",
   "execution_count": 8,
   "metadata": {},
   "outputs": [],
   "source": [
    "%create first iteration x1 = 1\n",
    "x1=1;"
   ]
  },
  {
   "cell_type": "code",
   "execution_count": 9,
   "metadata": {},
   "outputs": [
    {
     "name": "stdout",
     "output_type": "stream",
     "text": [
      "xi =\n",
      "\n",
      "   0\n",
      "   0\n",
      "   0\n",
      "\n"
     ]
    }
   ],
   "source": [
    "% xi for updating iteration value\n",
    "xi = x0 % initially x0 as initial value"
   ]
  },
  {
   "cell_type": "code",
   "execution_count": 10,
   "metadata": {},
   "outputs": [],
   "source": [
    "% iteration : accepted error 10^-6\n",
    "max_error = 10^-8;\n",
    "while(abs(x1-xi) > max_error)\n",
    "    x1 = -inv(D)*(Upper+Lower)*x0+inv(D)*B;\n",
    "    xi=x0;\n",
    "    x0=x1;\n",
    "end"
   ]
  },
  {
   "cell_type": "code",
   "execution_count": 11,
   "metadata": {
    "scrolled": true
   },
   "outputs": [
    {
     "name": "stdout",
     "output_type": "stream",
     "text": [
      "x1 =\n",
      "\n",
      "   1.00000\n",
      "   3.00000\n",
      "   1.00000\n",
      "\n"
     ]
    }
   ],
   "source": [
    "x1 % display the approximate value"
   ]
  },
  {
   "cell_type": "markdown",
   "metadata": {},
   "source": [
    "\n",
    "## Gause Seidel's upgration\n",
    "  ### Formula:\n",
    "      xi = -inv(D+Lower)*Upper*x0+inv(D+Lower)*B"
   ]
  },
  {
   "cell_type": "code",
   "execution_count": 12,
   "metadata": {
    "scrolled": true
   },
   "outputs": [
    {
     "name": "stdout",
     "output_type": "stream",
     "text": [
      "A =\n",
      "\n",
      "   10   -2    1\n",
      "   -2   10   -2\n",
      "   -2   -5   10\n",
      "\n",
      "B =\n",
      "\n",
      "    5\n",
      "   26\n",
      "   -7\n",
      "\n"
     ]
    }
   ],
   "source": [
    "% define co-effcient matrix and variable matrix\n",
    "A = [10 -2 1; -2 10 -2; -2 -5 10] % co-efficient matrix\n",
    "B = [5; 26; -7] % variable matrix"
   ]
  },
  {
   "cell_type": "code",
   "execution_count": 13,
   "metadata": {},
   "outputs": [
    {
     "name": "stdout",
     "output_type": "stream",
     "text": [
      "n =  3\n"
     ]
    }
   ],
   "source": [
    "n = length(A)\n",
    "x0 = zeros(n,1);\n",
    "x1 = 1;\n",
    "xi = x0;"
   ]
  },
  {
   "cell_type": "code",
   "execution_count": 14,
   "metadata": {},
   "outputs": [
    {
     "name": "stdout",
     "output_type": "stream",
     "text": [
      "x1 =\n",
      "\n",
      "   1.00000\n",
      "   3.00000\n",
      "   1.00000\n",
      "\n"
     ]
    }
   ],
   "source": [
    "while(abs(x1-xi) > 10^-6)\n",
    "    x1 = -inv(D+Lower)*Upper*x0+inv(D+Lower)*B;\n",
    "    xi=x0;\n",
    "    x0=x1;\n",
    "end\n",
    "x1"
   ]
  },
  {
   "cell_type": "markdown",
   "metadata": {},
   "source": [
    "### Source Code:\n",
    "  * ### [Jacobi](octave/gauss_jacobi.m)\n",
    "  * ### [Seidel](octave/gauss_seidel.m)"
   ]
  },
  {
   "cell_type": "code",
   "execution_count": null,
   "metadata": {},
   "outputs": [],
   "source": []
  }
 ],
 "metadata": {
  "kernelspec": {
   "display_name": "Octave",
   "language": "octave",
   "name": "octave"
  },
  "language_info": {
   "file_extension": ".m",
   "help_links": [
    {
     "text": "GNU Octave",
     "url": "https://www.gnu.org/software/octave/support.html"
    },
    {
     "text": "Octave Kernel",
     "url": "https://github.com/Calysto/octave_kernel"
    },
    {
     "text": "MetaKernel Magics",
     "url": "https://github.com/calysto/metakernel/blob/master/metakernel/magics/README.md"
    }
   ],
   "mimetype": "text/x-octave",
   "name": "octave",
   "version": "4.4.1"
  }
 },
 "nbformat": 4,
 "nbformat_minor": 2
}
