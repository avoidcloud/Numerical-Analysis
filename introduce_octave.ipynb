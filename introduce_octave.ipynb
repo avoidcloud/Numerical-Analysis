{
 "cells": [
  {
   "cell_type": "markdown",
   "metadata": {},
   "source": [
    "#### Before start\n",
    "    semi-colon (;) means that is a statement otherwise shell command applied. \n",
    "    Next line '\\n' indicate that print this line in print format\n",
    "#### I/O\n",
    "    age = input(\"Enter age: \");\n",
    "    printf(\"Typed: %d\\n\", age);\n",
    "    disp(\"Hello world\")"
   ]
  },
  {
   "cell_type": "markdown",
   "metadata": {},
   "source": [
    "#### Elementary calculation"
   ]
  },
  {
   "cell_type": "code",
   "execution_count": 39,
   "metadata": {},
   "outputs": [
    {
     "name": "stdout",
     "output_type": "stream",
     "text": [
      " 23\n",
      " 17\n",
      " 60\n",
      " 6.6667\n",
      " 8000\n",
      " 2\n",
      " 7.3891\n",
      " 3.1416\n",
      " 4.6052\n",
      " 2\n",
      " 5.4366\n"
     ]
    }
   ],
   "source": [
    "a = 20; % define integer variable a\n",
    "b = 3;  % define integer variable b\n",
    "disp(a+b) % addition of a and b\n",
    "disp(a-b) % substruct b from a\n",
    "disp(a*b) % multiply a and b\n",
    "disp(a/b) % divide a by b\n",
    "disp(a^b) % a exponent b\n",
    "disp(mod(a,b)) % a mod by b\n",
    "disp(exp(2)) % natural log or anti log(2)\n",
    "disp(pi) % predefined PI = 22/7 value\n",
    "disp(log(100)) % e-based log\n",
    "disp(log10(100)) % 10-based log\n",
    "disp(2*e) % 2 * natural log"
   ]
  },
  {
   "cell_type": "markdown",
   "metadata": {},
   "source": [
    "#### Matrix\n",
    "    Brackets [] indicate a matrix\n",
    "    comma(,) within matrix use for row items separation\n",
    "    semi-colon(;) within matrix use for column items separation"
   ]
  },
  {
   "cell_type": "code",
   "execution_count": 49,
   "metadata": {
    "scrolled": true
   },
   "outputs": [],
   "source": [
    "A = [1,2,3;4,5,6;7,8,9]; % define matrix A"
   ]
  },
  {
   "cell_type": "code",
   "execution_count": 50,
   "metadata": {},
   "outputs": [
    {
     "name": "stdout",
     "output_type": "stream",
     "text": [
      "    30    36    42\n",
      "    66    81    96\n",
      "   102   126   150\n"
     ]
    }
   ],
   "source": [
    "disp(A*A) % display matrix multiplication"
   ]
  },
  {
   "cell_type": "code",
   "execution_count": 51,
   "metadata": {
    "scrolled": true
   },
   "outputs": [
    {
     "name": "stdout",
     "output_type": "stream",
     "text": [
      "    2    4    6\n",
      "    8   10   12\n",
      "   14   16   18\n"
     ]
    }
   ],
   "source": [
    "disp(A+A) % display matrix addtion"
   ]
  },
  {
   "cell_type": "code",
   "execution_count": 53,
   "metadata": {},
   "outputs": [
    {
     "name": "stdout",
     "output_type": "stream",
     "text": [
      "   1   4   7\n",
      "   2   5   8\n",
      "   3   6   9\n"
     ]
    }
   ],
   "source": [
    "disp(A') % display A-transpose"
   ]
  },
  {
   "cell_type": "markdown",
   "metadata": {},
   "source": [
    "#### Linear Equation System"
   ]
  },
  {
   "cell_type": "code",
   "execution_count": null,
   "metadata": {},
   "outputs": [],
   "source": []
  }
 ],
 "metadata": {
  "kernelspec": {
   "display_name": "Octave",
   "language": "octave",
   "name": "octave"
  },
  "language_info": {
   "file_extension": ".m",
   "help_links": [
    {
     "text": "GNU Octave",
     "url": "https://www.gnu.org/software/octave/support.html"
    },
    {
     "text": "Octave Kernel",
     "url": "https://github.com/Calysto/octave_kernel"
    },
    {
     "text": "MetaKernel Magics",
     "url": "https://github.com/calysto/metakernel/blob/master/metakernel/magics/README.md"
    }
   ],
   "mimetype": "text/x-octave",
   "name": "octave",
   "version": "4.4.1"
  }
 },
 "nbformat": 4,
 "nbformat_minor": 2
}
