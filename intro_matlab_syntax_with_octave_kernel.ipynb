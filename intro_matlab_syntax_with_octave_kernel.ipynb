{
 "cells": [
  {
   "cell_type": "markdown",
   "metadata": {},
   "source": [
    "#### Arithmetical Operations:\n",
    "    Basic arithmetic operation syntaxes are natural in matlab as usual as octave\n",
    "    >> num1 + num2\n",
    "    >> num2 - num1\n",
    "    >> num1 * num2\n",
    "    >> num2 / num1\n",
    "    \n",
    "    Module operation : mod(number , mod_by) for c, c++, python, java syntax 10 % 3 = 1. here: \n",
    "    >>mod(10, 1) \n",
    "    \n",
    "    Exponent: natural syntax '^'\n",
    "    >> base ^ power"
   ]
  },
  {
   "cell_type": "code",
   "execution_count": 7,
   "metadata": {},
   "outputs": [
    {
     "name": "stdout",
     "output_type": "stream",
     "text": [
      "num1 =  100\n",
      "num2 =  300\n",
      "ans =  400\n",
      "ans =  200\n",
      "ans =  30000\n",
      "ans =  1\n",
      "ans =  1000000\n"
     ]
    }
   ],
   "source": [
    "% this is comment\n",
    "num1 = 100  % define a variable of integer type by assigning 100 \n",
    "num2 = 300  % define another integer by assigning 300\n",
    "num1 + num2 % addition\n",
    "num2 - num1 % substruction\n",
    "num1 * num2 % multiplication\n",
    "mod(10, 3)  % module\n",
    "num1 ^ 3"
   ]
  },
  {
   "cell_type": "markdown",
   "metadata": {},
   "source": [
    "#### Trigonometric: \n",
    "    To use decimal number as angle\n",
    "    > sind(90) = 1\n",
    "    > cosd(60) = 0.5\n",
    "    > tand(45) = 1\n",
    "    > cotd(45) = 1\n",
    "    > cscd(90) = 1 \n",
    "    cosec function syntax : csc\n",
    "    \n",
    "    pi = 180 degree in matlab\n",
    "    > sin(pi/2) = 1\n",
    "    > cos(pi/3) = 0.5\n",
    "    > tan(pi/4) = 1\n",
    "    > cot(pi/4) = 1"
   ]
  },
  {
   "cell_type": "code",
   "execution_count": 41,
   "metadata": {},
   "outputs": [
    {
     "name": "stdout",
     "output_type": "stream",
     "text": [
      "ans =  1\n",
      "ans =  0.50000\n",
      "ans =  1.00000\n",
      "ans =  1.0000\n",
      "ans =  1.4142\n",
      "ans =  1\n",
      "------------------------\n",
      "ans =  1\n",
      "ans =  0.50000\n",
      "ans =  1.00000\n",
      "ans =  1.7321\n",
      "ans =  1.4142\n",
      "ans =  1.4142\n"
     ]
    }
   ],
   "source": [
    "sind(90)\n",
    "cosd(60)\n",
    "tand(45)\n",
    "cotd(45)\n",
    "secd(45)\n",
    "cscd(90)\n",
    "disp(\"------------------------\") % this is display on console function\n",
    "sin(pi/2)\n",
    "cos(pi/3)\n",
    "tan(pi/4)\n",
    "cot(pi/6)\n",
    "sec(pi/4)\n",
    "csc(pi/4)"
   ]
  },
  {
   "cell_type": "code",
   "execution_count": null,
   "metadata": {},
   "outputs": [],
   "source": []
  }
 ],
 "metadata": {
  "kernelspec": {
   "display_name": "Octave",
   "language": "octave",
   "name": "octave"
  },
  "language_info": {
   "file_extension": ".m",
   "help_links": [
    {
     "text": "GNU Octave",
     "url": "https://www.gnu.org/software/octave/support.html"
    },
    {
     "text": "Octave Kernel",
     "url": "https://github.com/Calysto/octave_kernel"
    },
    {
     "text": "MetaKernel Magics",
     "url": "https://github.com/calysto/metakernel/blob/master/metakernel/magics/README.md"
    }
   ],
   "mimetype": "text/x-octave",
   "name": "octave",
   "version": "4.4.1"
  }
 },
 "nbformat": 4,
 "nbformat_minor": 2
}
